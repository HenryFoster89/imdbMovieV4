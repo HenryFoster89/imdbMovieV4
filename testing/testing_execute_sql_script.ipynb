{
 "cells": [
  {
   "cell_type": "code",
   "execution_count": 16,
   "metadata": {},
   "outputs": [],
   "source": [
    "import re    \n",
    "with open(r\"sql\\bulk_insert.sql\", \"r\", encoding=\"utf-8\") as file:        # apertura del file sql\n",
    "        sql_script = file.read()\n",
    "        sql_script = re.sub('--.*?--', \"\", sql_script)\n",
    "        sql_script = sql_script.split(\";\")                              # split del file sql in base al carattere ;\n",
    "\n"
   ]
  },
  {
   "cell_type": "code",
   "execution_count": 17,
   "metadata": {},
   "outputs": [
    {
     "data": {
      "text/plain": [
       "['\\nDELETE FROM dbo.name_basics',\n",
       " \"\\nBULK INSERT dbo.name_basics\\nFROM  'C:\\\\Users\\\\enric\\\\Desktop\\\\dataAnalysis_v02\\\\python\\\\imdbMovieV3\\\\data\\\\name_basics.csv' \\nWITH (\\n\\tFIRSTROW = 2,\\n\\t--DATAFILETYPE = 'char',\\n    FIELDTERMINATOR = ',',\\n\\tROWTERMINATOR = '0x0a',  -- LA MANCANZA DI QUESTO PARAMETRO DAVA PROBLEMI\\n\\tFORMAT = 'CSV',\\n\\tTABLOCK\\n\\t)\",\n",
       " '\\n\\n--TITLE_BASICS\\nDELETE FROM dbo.title_basics',\n",
       " \"\\nBULK INSERT dbo.title_basics\\nFROM  'C:\\\\Users\\\\enric\\\\Desktop\\\\dataAnalysis_v02\\\\python\\\\imdbMovieV3\\\\data\\\\title_basics.csv' \\nWITH (\\n\\tFIRSTROW = 2,\\n\\t--DATAFILETYPE = 'char',\\n    FIELDTERMINATOR = ',',\\n\\tROWTERMINATOR = '0x0a',  -- LA MANCANZA DI QUESTO PARAMETRO DAVA PROBLEMI\\n\\tFORMAT = 'CSV',\\n\\tTABLOCK\\n\\t)\",\n",
       " '\\n\\n--TITLE_CREW\\nDELETE FROM dbo.title_crew',\n",
       " \"\\nBULK INSERT dbo.title_crew\\nFROM  'C:\\\\Users\\\\enric\\\\Desktop\\\\dataAnalysis_v02\\\\python\\\\imdbMovieV3\\\\data\\\\title_crew.csv' \\nWITH (\\n\\tFIRSTROW = 2,\\n\\t--DATAFILETYPE = 'char',\\n    FIELDTERMINATOR = ',',\\n\\tROWTERMINATOR = '0x0a',  -- LA MANCANZA DI QUESTO PARAMETRO DAVA PROBLEMI\\n\\tFORMAT = 'CSV',\\n\\tTABLOCK\\n\\t)\",\n",
       " '\\n\\n--TITLE_EPISODE\\nDELETE FROM dbo.title_episode',\n",
       " \"\\nBULK INSERT dbo.title_episode\\nFROM  'C:\\\\Users\\\\enric\\\\Desktop\\\\dataAnalysis_v02\\\\python\\\\imdbMovieV3\\\\data\\\\title_episode.csv' \\nWITH (\\n\\tFIRSTROW = 2,\\n\\t--DATAFILETYPE = 'char',\\n    FIELDTERMINATOR = ',',\\n\\tROWTERMINATOR = '0x0a',  -- LA MANCANZA DI QUESTO PARAMETRO DAVA PROBLEMI\\n\\tFORMAT = 'CSV',\\n\\tTABLOCK\\n\\t)\",\n",
       " '\\n\\n--TITLE_PRINCIPALS\\nDELETE FROM dbo.title_principals',\n",
       " \"\\nBULK INSERT dbo.title_principals\\nFROM  'C:\\\\Users\\\\enric\\\\Desktop\\\\dataAnalysis_v02\\\\python\\\\imdbMovieV3\\\\data\\\\title_principals.csv' \\nWITH (\\n\\tFIRSTROW = 2,\\n\\t--DATAFILETYPE = 'char',\\n    FIELDTERMINATOR = ',',\\n\\tROWTERMINATOR = '0x0a',  -- LA MANCANZA DI QUESTO PARAMETRO DAVA PROBLEMI\\n\\tFORMAT = 'CSV',\\n\\tTABLOCK\\n\\t)\",\n",
       " '\\n\\n--TITLE_RATINGS\\nDELETE FROM dbo.title_ratings',\n",
       " \"\\nBULK INSERT dbo.title_ratings\\nFROM  'C:\\\\Users\\\\enric\\\\Desktop\\\\dataAnalysis_v02\\\\python\\\\imdbMovieV3\\\\data\\\\title_ratings.csv' \\nWITH (\\n\\tFIRSTROW = 2,\\n\\t--DATAFILETYPE = 'char',\\n    FIELDTERMINATOR = ',',\\n\\tROWTERMINATOR = '0x0a',  -- LA MANCANZA DI QUESTO PARAMETRO DAVA PROBLEMI\\n\\tFORMAT = 'CSV',\\n\\tTABLOCK\\n\\t)\",\n",
       " '\\n\\n\\n\\n\\n']"
      ]
     },
     "execution_count": 17,
     "metadata": {},
     "output_type": "execute_result"
    }
   ],
   "source": [
    "sql_script"
   ]
  },
  {
   "cell_type": "code",
   "execution_count": 18,
   "metadata": {},
   "outputs": [
    {
     "name": "stdout",
     "output_type": "stream",
     "text": [
      "\n",
      "DELETE FROM dbo.name_basics\n",
      "\n",
      "BULK INSERT dbo.name_basics\n",
      "FROM  'C:\\Users\\enric\\Desktop\\dataAnalysis_v02\\python\\imdbMovieV3\\data\\name_basics.csv' \n",
      "WITH (\n",
      "\tFIRSTROW = 2,\n",
      "\t--DATAFILETYPE = 'char',\n",
      "    FIELDTERMINATOR = ',',\n",
      "\tROWTERMINATOR = '0x0a',  -- LA MANCANZA DI QUESTO PARAMETRO DAVA PROBLEMI\n",
      "\tFORMAT = 'CSV',\n",
      "\tTABLOCK\n",
      "\t)\n",
      "\n",
      "\n",
      "--TITLE_BASICS\n",
      "DELETE FROM dbo.title_basics\n",
      "\n",
      "BULK INSERT dbo.title_basics\n",
      "FROM  'C:\\Users\\enric\\Desktop\\dataAnalysis_v02\\python\\imdbMovieV3\\data\\title_basics.csv' \n",
      "WITH (\n",
      "\tFIRSTROW = 2,\n",
      "\t--DATAFILETYPE = 'char',\n",
      "    FIELDTERMINATOR = ',',\n",
      "\tROWTERMINATOR = '0x0a',  -- LA MANCANZA DI QUESTO PARAMETRO DAVA PROBLEMI\n",
      "\tFORMAT = 'CSV',\n",
      "\tTABLOCK\n",
      "\t)\n",
      "\n",
      "\n",
      "--TITLE_CREW\n",
      "DELETE FROM dbo.title_crew\n",
      "\n",
      "BULK INSERT dbo.title_crew\n",
      "FROM  'C:\\Users\\enric\\Desktop\\dataAnalysis_v02\\python\\imdbMovieV3\\data\\title_crew.csv' \n",
      "WITH (\n",
      "\tFIRSTROW = 2,\n",
      "\t--DATAFILETYPE = 'char',\n",
      "    FIELDTERMINATOR = ',',\n",
      "\tROWTERMINATOR = '0x0a',  -- LA MANCANZA DI QUESTO PARAMETRO DAVA PROBLEMI\n",
      "\tFORMAT = 'CSV',\n",
      "\tTABLOCK\n",
      "\t)\n",
      "\n",
      "\n",
      "--TITLE_EPISODE\n",
      "DELETE FROM dbo.title_episode\n",
      "\n",
      "BULK INSERT dbo.title_episode\n",
      "FROM  'C:\\Users\\enric\\Desktop\\dataAnalysis_v02\\python\\imdbMovieV3\\data\\title_episode.csv' \n",
      "WITH (\n",
      "\tFIRSTROW = 2,\n",
      "\t--DATAFILETYPE = 'char',\n",
      "    FIELDTERMINATOR = ',',\n",
      "\tROWTERMINATOR = '0x0a',  -- LA MANCANZA DI QUESTO PARAMETRO DAVA PROBLEMI\n",
      "\tFORMAT = 'CSV',\n",
      "\tTABLOCK\n",
      "\t)\n",
      "\n",
      "\n",
      "--TITLE_PRINCIPALS\n",
      "DELETE FROM dbo.title_principals\n",
      "\n",
      "BULK INSERT dbo.title_principals\n",
      "FROM  'C:\\Users\\enric\\Desktop\\dataAnalysis_v02\\python\\imdbMovieV3\\data\\title_principals.csv' \n",
      "WITH (\n",
      "\tFIRSTROW = 2,\n",
      "\t--DATAFILETYPE = 'char',\n",
      "    FIELDTERMINATOR = ',',\n",
      "\tROWTERMINATOR = '0x0a',  -- LA MANCANZA DI QUESTO PARAMETRO DAVA PROBLEMI\n",
      "\tFORMAT = 'CSV',\n",
      "\tTABLOCK\n",
      "\t)\n",
      "\n",
      "\n",
      "--TITLE_RATINGS\n",
      "DELETE FROM dbo.title_ratings\n",
      "\n",
      "BULK INSERT dbo.title_ratings\n",
      "FROM  'C:\\Users\\enric\\Desktop\\dataAnalysis_v02\\python\\imdbMovieV3\\data\\title_ratings.csv' \n",
      "WITH (\n",
      "\tFIRSTROW = 2,\n",
      "\t--DATAFILETYPE = 'char',\n",
      "    FIELDTERMINATOR = ',',\n",
      "\tROWTERMINATOR = '0x0a',  -- LA MANCANZA DI QUESTO PARAMETRO DAVA PROBLEMI\n",
      "\tFORMAT = 'CSV',\n",
      "\tTABLOCK\n",
      "\t)\n",
      "\n",
      "\n",
      "\n",
      "\n",
      "\n",
      "\n"
     ]
    }
   ],
   "source": [
    "for i in sql_script:\n",
    "    print(i)"
   ]
  },
  {
   "cell_type": "code",
   "execution_count": null,
   "metadata": {},
   "outputs": [],
   "source": []
  }
 ],
 "metadata": {
  "kernelspec": {
   "display_name": "analisi_p",
   "language": "python",
   "name": "python3"
  },
  "language_info": {
   "codemirror_mode": {
    "name": "ipython",
    "version": 3
   },
   "file_extension": ".py",
   "mimetype": "text/x-python",
   "name": "python",
   "nbconvert_exporter": "python",
   "pygments_lexer": "ipython3",
   "version": "3.12.2"
  }
 },
 "nbformat": 4,
 "nbformat_minor": 2
}
