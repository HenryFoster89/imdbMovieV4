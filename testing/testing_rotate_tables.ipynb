{
 "cells": [
  {
   "cell_type": "code",
   "execution_count": null,
   "metadata": {},
   "outputs": [],
   "source": [
    "import pandas as pd\n",
    "from utils.db_connection import get_connection_alchemy\n",
    "\n",
    "engine = get_connection_alchemy()"
   ]
  },
  {
   "cell_type": "code",
   "execution_count": 24,
   "metadata": {},
   "outputs": [
    {
     "data": {
      "text/plain": [
       "173"
      ]
     },
     "execution_count": 24,
     "metadata": {},
     "output_type": "execute_result"
    }
   ],
   "source": [
    "df = pd.read_csv(r\"data\\name_basics.csv\",\n",
    "                 usecols=['nconst',  'knownForTitles'])\n",
    "\n",
    "# Esplosione della colonna \"knownForTitles\"\n",
    "df_exploded = df.assign(knownForTitles=df[\"knownForTitles\"].str.split(\",\")).explode(\"knownForTitles\")\n",
    "\n",
    "# Reset dell'indice per mantenere ordinato il dataframe\n",
    "df_exploded = df_exploded.reset_index(drop=True)\n",
    "\n",
    "# METTICI UN BULK INSERT\n",
    "df_exploded.to_sql('name_basics_KnowForTitle', engine, if_exists='replace', index=False)\n"
   ]
  },
  {
   "cell_type": "code",
   "execution_count": null,
   "metadata": {},
   "outputs": [],
   "source": []
  }
 ],
 "metadata": {
  "kernelspec": {
   "display_name": "analisi_p",
   "language": "python",
   "name": "python3"
  },
  "language_info": {
   "codemirror_mode": {
    "name": "ipython",
    "version": 3
   },
   "file_extension": ".py",
   "mimetype": "text/x-python",
   "name": "python",
   "nbconvert_exporter": "python",
   "pygments_lexer": "ipython3",
   "version": "3.12.2"
  }
 },
 "nbformat": 4,
 "nbformat_minor": 2
}
