{
 "cells": [
  {
   "cell_type": "code",
   "execution_count": 5,
   "metadata": {},
   "outputs": [],
   "source": [
    "import pandas as pd\n",
    "\n",
    "df = pd.read_csv(r\"data\\title_principals.csv\")"
   ]
  },
  {
   "cell_type": "code",
   "execution_count": 6,
   "metadata": {},
   "outputs": [
    {
     "data": {
      "text/html": [
       "<div>\n",
       "<style scoped>\n",
       "    .dataframe tbody tr th:only-of-type {\n",
       "        vertical-align: middle;\n",
       "    }\n",
       "\n",
       "    .dataframe tbody tr th {\n",
       "        vertical-align: top;\n",
       "    }\n",
       "\n",
       "    .dataframe thead th {\n",
       "        text-align: right;\n",
       "    }\n",
       "</style>\n",
       "<table border=\"1\" class=\"dataframe\">\n",
       "  <thead>\n",
       "    <tr style=\"text-align: right;\">\n",
       "      <th></th>\n",
       "      <th>tconst</th>\n",
       "      <th>ordering</th>\n",
       "      <th>nconst</th>\n",
       "      <th>category</th>\n",
       "      <th>job</th>\n",
       "      <th>characters</th>\n",
       "    </tr>\n",
       "  </thead>\n",
       "  <tbody>\n",
       "    <tr>\n",
       "      <th>0</th>\n",
       "      <td>tt0000001</td>\n",
       "      <td>1</td>\n",
       "      <td>nm1588970</td>\n",
       "      <td>self</td>\n",
       "      <td>NaN</td>\n",
       "      <td>[\"Self\"]</td>\n",
       "    </tr>\n",
       "    <tr>\n",
       "      <th>1</th>\n",
       "      <td>tt0000001</td>\n",
       "      <td>2</td>\n",
       "      <td>nm0005690</td>\n",
       "      <td>director</td>\n",
       "      <td>NaN</td>\n",
       "      <td>NaN</td>\n",
       "    </tr>\n",
       "    <tr>\n",
       "      <th>2</th>\n",
       "      <td>tt0000001</td>\n",
       "      <td>3</td>\n",
       "      <td>nm0005690</td>\n",
       "      <td>producer</td>\n",
       "      <td>producer</td>\n",
       "      <td>NaN</td>\n",
       "    </tr>\n",
       "    <tr>\n",
       "      <th>3</th>\n",
       "      <td>tt0000001</td>\n",
       "      <td>4</td>\n",
       "      <td>nm0374658</td>\n",
       "      <td>cinematographer</td>\n",
       "      <td>director of photography</td>\n",
       "      <td>NaN</td>\n",
       "    </tr>\n",
       "    <tr>\n",
       "      <th>4</th>\n",
       "      <td>tt0000002</td>\n",
       "      <td>1</td>\n",
       "      <td>nm0721526</td>\n",
       "      <td>director</td>\n",
       "      <td>NaN</td>\n",
       "      <td>NaN</td>\n",
       "    </tr>\n",
       "    <tr>\n",
       "      <th>...</th>\n",
       "      <td>...</td>\n",
       "      <td>...</td>\n",
       "      <td>...</td>\n",
       "      <td>...</td>\n",
       "      <td>...</td>\n",
       "      <td>...</td>\n",
       "    </tr>\n",
       "    <tr>\n",
       "      <th>91343761</th>\n",
       "      <td>tt9916880</td>\n",
       "      <td>17</td>\n",
       "      <td>nm0996406</td>\n",
       "      <td>director</td>\n",
       "      <td>principal director</td>\n",
       "      <td>NaN</td>\n",
       "    </tr>\n",
       "    <tr>\n",
       "      <th>91343762</th>\n",
       "      <td>tt9916880</td>\n",
       "      <td>18</td>\n",
       "      <td>nm1482639</td>\n",
       "      <td>writer</td>\n",
       "      <td>NaN</td>\n",
       "      <td>NaN</td>\n",
       "    </tr>\n",
       "    <tr>\n",
       "      <th>91343763</th>\n",
       "      <td>tt9916880</td>\n",
       "      <td>19</td>\n",
       "      <td>nm2586970</td>\n",
       "      <td>writer</td>\n",
       "      <td>books</td>\n",
       "      <td>NaN</td>\n",
       "    </tr>\n",
       "    <tr>\n",
       "      <th>91343764</th>\n",
       "      <td>tt9916880</td>\n",
       "      <td>20</td>\n",
       "      <td>nm1594058</td>\n",
       "      <td>producer</td>\n",
       "      <td>producer</td>\n",
       "      <td>NaN</td>\n",
       "    </tr>\n",
       "    <tr>\n",
       "      <th>91343765</th>\n",
       "      <td>tt9916880</td>\n",
       "      <td>21</td>\n",
       "      <td>nm1482639</td>\n",
       "      <td>producer</td>\n",
       "      <td>producer</td>\n",
       "      <td>NaN</td>\n",
       "    </tr>\n",
       "  </tbody>\n",
       "</table>\n",
       "<p>91343766 rows × 6 columns</p>\n",
       "</div>"
      ],
      "text/plain": [
       "             tconst  ordering     nconst         category  \\\n",
       "0         tt0000001         1  nm1588970             self   \n",
       "1         tt0000001         2  nm0005690         director   \n",
       "2         tt0000001         3  nm0005690         producer   \n",
       "3         tt0000001         4  nm0374658  cinematographer   \n",
       "4         tt0000002         1  nm0721526         director   \n",
       "...             ...       ...        ...              ...   \n",
       "91343761  tt9916880        17  nm0996406         director   \n",
       "91343762  tt9916880        18  nm1482639           writer   \n",
       "91343763  tt9916880        19  nm2586970           writer   \n",
       "91343764  tt9916880        20  nm1594058         producer   \n",
       "91343765  tt9916880        21  nm1482639         producer   \n",
       "\n",
       "                              job characters  \n",
       "0                             NaN   [\"Self\"]  \n",
       "1                             NaN        NaN  \n",
       "2                        producer        NaN  \n",
       "3         director of photography        NaN  \n",
       "4                             NaN        NaN  \n",
       "...                           ...        ...  \n",
       "91343761       principal director        NaN  \n",
       "91343762                      NaN        NaN  \n",
       "91343763                    books        NaN  \n",
       "91343764                 producer        NaN  \n",
       "91343765                 producer        NaN  \n",
       "\n",
       "[91343766 rows x 6 columns]"
      ]
     },
     "execution_count": 6,
     "metadata": {},
     "output_type": "execute_result"
    }
   ],
   "source": [
    "df"
   ]
  },
  {
   "cell_type": "code",
   "execution_count": 13,
   "metadata": {},
   "outputs": [
    {
     "data": {
      "text/plain": [
       "tconst        tt0000013\n",
       "ordering              3\n",
       "nconst        nm0525910\n",
       "category       director\n",
       "job                 NaN\n",
       "characters          NaN\n",
       "Name: 55, dtype: object"
      ]
     },
     "execution_count": 13,
     "metadata": {},
     "output_type": "execute_result"
    }
   ],
   "source": [
    "df.iloc[55]"
   ]
  },
  {
   "cell_type": "code",
   "execution_count": 14,
   "metadata": {},
   "outputs": [
    {
     "data": {
      "text/plain": [
       "tconst                  tt10946360\n",
       "ordering                         1\n",
       "nconst                   nm3167650\n",
       "category                      self\n",
       "job                            NaN\n",
       "characters    [\"Self - Presenter\"]\n",
       "Name: 16058996, dtype: object"
      ]
     },
     "execution_count": 14,
     "metadata": {},
     "output_type": "execute_result"
    }
   ],
   "source": [
    "df.iloc[16058996]"
   ]
  },
  {
   "cell_type": "code",
   "execution_count": 15,
   "metadata": {},
   "outputs": [
    {
     "data": {
      "text/plain": [
       "tconst                                                tt7683858\n",
       "ordering                                                     19\n",
       "nconst                                                nm0594186\n",
       "category                                               director\n",
       "job           director: \"Thomas and Percy's Mountain Adventu...\n",
       "characters                                                  NaN\n",
       "Name: 82184649, dtype: object"
      ]
     },
     "execution_count": 15,
     "metadata": {},
     "output_type": "execute_result"
    }
   ],
   "source": [
    "df.iloc[82184649]"
   ]
  },
  {
   "cell_type": "code",
   "execution_count": 16,
   "metadata": {},
   "outputs": [
    {
     "data": {
      "text/plain": [
       "tconst                                                tt7683858\n",
       "ordering                                                     30\n",
       "nconst                                                nm1685707\n",
       "category                                                 editor\n",
       "job           editor: \"Thomas' Christmas Party\" and \"Terence...\n",
       "characters                                                  NaN\n",
       "Name: 82184660, dtype: object"
      ]
     },
     "execution_count": 16,
     "metadata": {},
     "output_type": "execute_result"
    }
   ],
   "source": [
    "df.iloc[82184660]"
   ]
  },
  {
   "cell_type": "code",
   "execution_count": null,
   "metadata": {},
   "outputs": [],
   "source": []
  }
 ],
 "metadata": {
  "kernelspec": {
   "display_name": "analisi_p",
   "language": "python",
   "name": "python3"
  },
  "language_info": {
   "codemirror_mode": {
    "name": "ipython",
    "version": 3
   },
   "file_extension": ".py",
   "mimetype": "text/x-python",
   "name": "python",
   "nbconvert_exporter": "python",
   "pygments_lexer": "ipython3",
   "version": "3.12.2"
  }
 },
 "nbformat": 4,
 "nbformat_minor": 2
}
